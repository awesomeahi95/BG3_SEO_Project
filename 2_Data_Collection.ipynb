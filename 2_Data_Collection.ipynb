{
 "cells": [
  {
   "cell_type": "markdown",
   "id": "913a7839-5dbf-4f4b-8111-03bbef9d4bb4",
   "metadata": {},
   "source": [
    "# Webscraping Data\n",
    "---"
   ]
  },
  {
   "cell_type": "markdown",
   "id": "eb406427-c55d-4876-8bc3-844c40e35f6b",
   "metadata": {
    "jp-MarkdownHeadingCollapsed": true,
    "tags": []
   },
   "source": [
    "## <ins>Objective</ins>\n",
    "- The goal of this step is to collect targeted guide content from IGN, Polygon, Screen Rant, and GamesRadar+ for Baldur's Gate 3. The scraped data will be used for analyzing SEO strategies. Key steps include:\n",
    "    - Defining Target URLs: Identify and list specific guides to scrape for consistent comparison across sites.\n",
    "    - Scraping Guide Content: Use Python libraries such as requests and BeautifulSoup to extract HTML content from each URL.\n",
    "    - Validating Scraped Data: Ensure all selected URLs are accessible and comply with the website's robots.txt policies.\n",
    "    - Storing Data: Save the scraped data in a structured format (Pandas DataFrame) for further cleaning and preprocessing.\n",
    "---"
   ]
  },
  {
   "cell_type": "markdown",
   "id": "c29484a3-e586-4735-89fd-bfebed3527c0",
   "metadata": {},
   "source": [
    "## <ins>Imports</ins>"
   ]
  },
  {
   "cell_type": "code",
   "execution_count": 1,
   "id": "ecebeb7e-2883-4cd5-885a-a84c001abcc4",
   "metadata": {
    "tags": []
   },
   "outputs": [],
   "source": [
    "import requests\n",
    "from bs4 import BeautifulSoup\n",
    "import pandas as pd\n",
    "import re"
   ]
  },
  {
   "cell_type": "markdown",
   "id": "0d973ca7-6c3e-4bcf-a4e5-1670b24c38f8",
   "metadata": {},
   "source": [
    "---\n",
    "## <ins>URLs to Scrape</ins>\n",
    "- List of all the URLs to scrape data from."
   ]
  },
  {
   "cell_type": "code",
   "execution_count": 2,
   "id": "e590b3a4-752e-4942-91c0-0d32bd083308",
   "metadata": {
    "tags": []
   },
   "outputs": [],
   "source": [
    "urls = [\n",
    "    # IGN\n",
    "    \"https://www.ign.com/wikis/baldurs-gate-3/Where_to_Find_and_Recruit_Karlach\",\n",
    "    \"https://www.ign.com/wikis/baldurs-gate-3/Companions_and_Party_Members\",\n",
    "    \"https://www.ign.com/wikis/baldurs-gate-3/All_Sex_and_Romance_Options\",\n",
    "    \n",
    "    # Polygon\n",
    "    \"https://www.polygon.com/24035856/karlach-bg3-romance-guide-baldurs-gate-3\",\n",
    "    \"https://www.polygon.com/baldurs-gate-3-guides/23817654/best-class-choose-classes\",\n",
    "    \"https://www.polygon.com/baldurs-gate-3-guide-walkthrough/21514686/overgrown-ruins-walkthrough-explore-investigate-bedchamber-dank-crypt-hooded-figure-sarcophagus\",\n",
    "    \n",
    "    # Screen Rant\n",
    "    \"https://screenrant.com/baldurs-gate-3-where-to-find-recruit-karlach/\",\n",
    "    \"https://screenrant.com/baldurs-gate-3-beginners-questions-answered/\",\n",
    "    \"https://screenrant.com/baldurs-gate-3-missed-quests-bg3/\",\n",
    "    \n",
    "    # GamesRadar+\n",
    "    \"https://www.gamesradar.com/baldurs-gate-3-karlach/\",\n",
    "    \"https://www.gamesradar.com/baldurs-gate-3-weapons/\",\n",
    "    \"https://www.gamesradar.com/baldurs-gate-3-tips-and-tricks/\"\n",
    "]"
   ]
  },
  {
   "cell_type": "markdown",
   "id": "eec20f0a-9975-4f4d-b3c8-e98c746bfc3e",
   "metadata": {},
   "source": [
    "---\n",
    "## <ins>Webscraping</ins>\n",
    "- Using headers to simulate a browser so requests are not blocked due to bot-like behaviour."
   ]
  },
  {
   "cell_type": "code",
   "execution_count": 3,
   "id": "0cdda2d3-1ad4-4d38-b339-593c997fa0c8",
   "metadata": {},
   "outputs": [],
   "source": [
    "headers = {\n",
    "    \"User-Agent\": \"Mozilla/5.0 (Windows NT 10.0; Win64; x64) AppleWebKit/537.36 (KHTML, like Gecko) Chrome/115.0.0.0 Safari/537.36\"\n",
    "}"
   ]
  },
  {
   "cell_type": "markdown",
   "id": "203f8af5-cad3-41fe-9e53-ae97b5e0e9d7",
   "metadata": {},
   "source": [
    "- Fetching HTML content and parsing it."
   ]
  },
  {
   "cell_type": "code",
   "execution_count": 4,
   "id": "89b53f0b-bcc7-4c96-861d-c4df12c7230e",
   "metadata": {
    "tags": []
   },
   "outputs": [],
   "source": [
    "scraped_data = []\n",
    "\n",
    "for url in urls:\n",
    "    try:\n",
    "        response = requests.get(url, headers=headers)\n",
    "        response.raise_for_status()\n",
    "        soup = BeautifulSoup(response.text, 'html.parser')\n",
    "\n",
    "        # Extract title\n",
    "        title = soup.find('title').text if soup.find('title') else 'N/A'\n",
    "\n",
    "        # Extract meta description\n",
    "        meta_description = (\n",
    "            soup.find('meta', {'name': 'description'})['content']\n",
    "            if soup.find('meta', {'name': 'description'})\n",
    "            else 'N/A'\n",
    "        )\n",
    "\n",
    "        # Extract headings (h1, h2, h3)\n",
    "        headings = [h.text.strip() for h in soup.find_all(['h1', 'h2', 'h3'])]\n",
    "\n",
    "        # Extract main content paragraphs\n",
    "        content = \" \".join([p.text.strip() for p in soup.find_all('p')])\n",
    "\n",
    "        scraped_data.append({\n",
    "            \"URL\": url,\n",
    "            \"Title\": title,\n",
    "            \"Meta Description\": meta_description,\n",
    "            \"Headings\": headings,\n",
    "            \"Content\": content\n",
    "        })\n",
    "\n",
    "    except Exception as e:\n",
    "        print(f\"Error scraping {url}: {e}\")"
   ]
  },
  {
   "cell_type": "markdown",
   "id": "e3a3b775-5b9c-4654-85ae-d8a93a9bf680",
   "metadata": {},
   "source": [
    "---\n",
    "## <ins>Checking Scraped Data</ins>"
   ]
  },
  {
   "cell_type": "code",
   "execution_count": 5,
   "id": "8e2faaed-244b-4586-9048-bd2997aaf7be",
   "metadata": {
    "tags": []
   },
   "outputs": [
    {
     "data": {
      "text/html": [
       "<div>\n",
       "<style scoped>\n",
       "    .dataframe tbody tr th:only-of-type {\n",
       "        vertical-align: middle;\n",
       "    }\n",
       "\n",
       "    .dataframe tbody tr th {\n",
       "        vertical-align: top;\n",
       "    }\n",
       "\n",
       "    .dataframe thead th {\n",
       "        text-align: right;\n",
       "    }\n",
       "</style>\n",
       "<table border=\"1\" class=\"dataframe\">\n",
       "  <thead>\n",
       "    <tr style=\"text-align: right;\">\n",
       "      <th></th>\n",
       "      <th>URL</th>\n",
       "      <th>Title</th>\n",
       "      <th>Meta Description</th>\n",
       "      <th>Headings</th>\n",
       "      <th>Content</th>\n",
       "    </tr>\n",
       "  </thead>\n",
       "  <tbody>\n",
       "    <tr>\n",
       "      <th>0</th>\n",
       "      <td>https://www.ign.com/wikis/baldurs-gate-3/Where...</td>\n",
       "      <td>Where to Find and Recruit Karlach - Baldur's G...</td>\n",
       "      <td>Baldur&amp;apos;s Gate 3 is a massive game, filled...</td>\n",
       "      <td>[Baldur's Gate III Guide, Find in guide, Inter...</td>\n",
       "      <td>Baldur's Gate 3 is a massive game, filled with...</td>\n",
       "    </tr>\n",
       "    <tr>\n",
       "      <th>1</th>\n",
       "      <td>https://www.ign.com/wikis/baldurs-gate-3/Compa...</td>\n",
       "      <td>Companions and Party Members - Baldur's Gate I...</td>\n",
       "      <td>Companions in Baldur&amp;apos;s Gate 3 are unique ...</td>\n",
       "      <td>[Baldur's Gate III Guide, Find in guide, Inter...</td>\n",
       "      <td>Companions in Baldur's Gate 3 are unique chara...</td>\n",
       "    </tr>\n",
       "    <tr>\n",
       "      <th>2</th>\n",
       "      <td>https://www.ign.com/wikis/baldurs-gate-3/All_S...</td>\n",
       "      <td>All Sex and Romance Options - Baldur's Gate II...</td>\n",
       "      <td>If you&amp;apos;re in the mood and trying to creat...</td>\n",
       "      <td>[Baldur's Gate III Guide, Find in guide, Inter...</td>\n",
       "      <td>If you're in the mood and trying to create a r...</td>\n",
       "    </tr>\n",
       "    <tr>\n",
       "      <th>3</th>\n",
       "      <td>https://www.polygon.com/24035856/karlach-bg3-r...</td>\n",
       "      <td>Baldur’s Gate 3: How to get Karlach as fast as...</td>\n",
       "      <td>One easy trick to get a head start on Karlach’...</td>\n",
       "      <td>[All my friends are strategically jumping off ...</td>\n",
       "      <td>One stupid trick to get a head start on Karlac...</td>\n",
       "    </tr>\n",
       "    <tr>\n",
       "      <th>4</th>\n",
       "      <td>https://www.polygon.com/baldurs-gate-3-guides/...</td>\n",
       "      <td>How to choose the best class for you in BG3 | ...</td>\n",
       "      <td>Baldur’s Gate 3 makes it hard to find the best...</td>\n",
       "      <td>[How to choose the best class for you in Baldu...</td>\n",
       "      <td>BG3 features a dozen different, equally awesom...</td>\n",
       "    </tr>\n",
       "    <tr>\n",
       "      <th>5</th>\n",
       "      <td>https://www.polygon.com/baldurs-gate-3-guide-w...</td>\n",
       "      <td>Explore the Overgrown Ruins walkthrough — Bald...</td>\n",
       "      <td>Our Baldur’s Gate 3 guide will help you comple...</td>\n",
       "      <td>[Baldur’s Gate 3 guide: Overgrown Ruins walkth...</td>\n",
       "      <td>How to complete the “Investigate the ruins” qu...</td>\n",
       "    </tr>\n",
       "    <tr>\n",
       "      <th>6</th>\n",
       "      <td>https://screenrant.com/baldurs-gate-3-where-to...</td>\n",
       "      <td>Where To Find (&amp; Recruit) Karlach In Baldur’s ...</td>\n",
       "      <td>One of the best additions to any Baldur's Gate...</td>\n",
       "      <td>[Screen Rant, Where To Find (&amp; Recruit) Karlac...</td>\n",
       "      <td>Your changes have been saved  Email is sent Em...</td>\n",
       "    </tr>\n",
       "    <tr>\n",
       "      <th>7</th>\n",
       "      <td>https://screenrant.com/baldurs-gate-3-beginner...</td>\n",
       "      <td>10 Baldur’s Gate 3 Questions For Beginners, An...</td>\n",
       "      <td>With Baldur's Gate 3 adaption of Dungeons &amp; Dr...</td>\n",
       "      <td>[Screen Rant, 10 Baldur’s Gate 3 Questions For...</td>\n",
       "      <td>Your changes have been saved  Email is sent Em...</td>\n",
       "    </tr>\n",
       "    <tr>\n",
       "      <th>8</th>\n",
       "      <td>https://screenrant.com/baldurs-gate-3-missed-q...</td>\n",
       "      <td>10 Best Baldur's Gate 3 Quests You Probably Mi...</td>\n",
       "      <td>Baldur’s Gate 3 is absolutely packed with ques...</td>\n",
       "      <td>[Screen Rant, 10 Best Baldur's Gate 3 Quests Y...</td>\n",
       "      <td>Your changes have been saved  Email is sent Em...</td>\n",
       "    </tr>\n",
       "    <tr>\n",
       "      <th>9</th>\n",
       "      <td>https://www.gamesradar.com/baldurs-gate-3-karl...</td>\n",
       "      <td>How to find Karlach in Baldur's Gate 3 | Games...</td>\n",
       "      <td>Karlach is a potential party member and compan...</td>\n",
       "      <td>[How to find Karlach in Baldur's Gate 3, Karla...</td>\n",
       "      <td>How to find Karlach Demonsbane in BG3 and get ...</td>\n",
       "    </tr>\n",
       "    <tr>\n",
       "      <th>10</th>\n",
       "      <td>https://www.gamesradar.com/baldurs-gate-3-weap...</td>\n",
       "      <td>The best Baldur's Gate 3 weapons and how weapo...</td>\n",
       "      <td>Weapons in Baldur's Gate 3 are broken into two...</td>\n",
       "      <td>[The best Baldur's Gate 3 weapons and how weap...</td>\n",
       "      <td>From swords to axes to bows, the best BG3 weap...</td>\n",
       "    </tr>\n",
       "    <tr>\n",
       "      <th>11</th>\n",
       "      <td>https://www.gamesradar.com/baldurs-gate-3-tips...</td>\n",
       "      <td>7 Baldur's Gate 3 tips and tricks for your adv...</td>\n",
       "      <td>These Baldur's Gate 3 tips and tricks will hel...</td>\n",
       "      <td>[7 Baldur's Gate 3 tips and tricks for your ad...</td>\n",
       "      <td>Our top BG3 tips could be the difference betwe...</td>\n",
       "    </tr>\n",
       "  </tbody>\n",
       "</table>\n",
       "</div>"
      ],
      "text/plain": [
       "                                                  URL  \\\n",
       "0   https://www.ign.com/wikis/baldurs-gate-3/Where...   \n",
       "1   https://www.ign.com/wikis/baldurs-gate-3/Compa...   \n",
       "2   https://www.ign.com/wikis/baldurs-gate-3/All_S...   \n",
       "3   https://www.polygon.com/24035856/karlach-bg3-r...   \n",
       "4   https://www.polygon.com/baldurs-gate-3-guides/...   \n",
       "5   https://www.polygon.com/baldurs-gate-3-guide-w...   \n",
       "6   https://screenrant.com/baldurs-gate-3-where-to...   \n",
       "7   https://screenrant.com/baldurs-gate-3-beginner...   \n",
       "8   https://screenrant.com/baldurs-gate-3-missed-q...   \n",
       "9   https://www.gamesradar.com/baldurs-gate-3-karl...   \n",
       "10  https://www.gamesradar.com/baldurs-gate-3-weap...   \n",
       "11  https://www.gamesradar.com/baldurs-gate-3-tips...   \n",
       "\n",
       "                                                Title  \\\n",
       "0   Where to Find and Recruit Karlach - Baldur's G...   \n",
       "1   Companions and Party Members - Baldur's Gate I...   \n",
       "2   All Sex and Romance Options - Baldur's Gate II...   \n",
       "3   Baldur’s Gate 3: How to get Karlach as fast as...   \n",
       "4   How to choose the best class for you in BG3 | ...   \n",
       "5   Explore the Overgrown Ruins walkthrough — Bald...   \n",
       "6   Where To Find (& Recruit) Karlach In Baldur’s ...   \n",
       "7   10 Baldur’s Gate 3 Questions For Beginners, An...   \n",
       "8   10 Best Baldur's Gate 3 Quests You Probably Mi...   \n",
       "9   How to find Karlach in Baldur's Gate 3 | Games...   \n",
       "10  The best Baldur's Gate 3 weapons and how weapo...   \n",
       "11  7 Baldur's Gate 3 tips and tricks for your adv...   \n",
       "\n",
       "                                     Meta Description  \\\n",
       "0   Baldur&apos;s Gate 3 is a massive game, filled...   \n",
       "1   Companions in Baldur&apos;s Gate 3 are unique ...   \n",
       "2   If you&apos;re in the mood and trying to creat...   \n",
       "3   One easy trick to get a head start on Karlach’...   \n",
       "4   Baldur’s Gate 3 makes it hard to find the best...   \n",
       "5   Our Baldur’s Gate 3 guide will help you comple...   \n",
       "6   One of the best additions to any Baldur's Gate...   \n",
       "7   With Baldur's Gate 3 adaption of Dungeons & Dr...   \n",
       "8   Baldur’s Gate 3 is absolutely packed with ques...   \n",
       "9   Karlach is a potential party member and compan...   \n",
       "10  Weapons in Baldur's Gate 3 are broken into two...   \n",
       "11  These Baldur's Gate 3 tips and tricks will hel...   \n",
       "\n",
       "                                             Headings  \\\n",
       "0   [Baldur's Gate III Guide, Find in guide, Inter...   \n",
       "1   [Baldur's Gate III Guide, Find in guide, Inter...   \n",
       "2   [Baldur's Gate III Guide, Find in guide, Inter...   \n",
       "3   [All my friends are strategically jumping off ...   \n",
       "4   [How to choose the best class for you in Baldu...   \n",
       "5   [Baldur’s Gate 3 guide: Overgrown Ruins walkth...   \n",
       "6   [Screen Rant, Where To Find (& Recruit) Karlac...   \n",
       "7   [Screen Rant, 10 Baldur’s Gate 3 Questions For...   \n",
       "8   [Screen Rant, 10 Best Baldur's Gate 3 Quests Y...   \n",
       "9   [How to find Karlach in Baldur's Gate 3, Karla...   \n",
       "10  [The best Baldur's Gate 3 weapons and how weap...   \n",
       "11  [7 Baldur's Gate 3 tips and tricks for your ad...   \n",
       "\n",
       "                                              Content  \n",
       "0   Baldur's Gate 3 is a massive game, filled with...  \n",
       "1   Companions in Baldur's Gate 3 are unique chara...  \n",
       "2   If you're in the mood and trying to create a r...  \n",
       "3   One stupid trick to get a head start on Karlac...  \n",
       "4   BG3 features a dozen different, equally awesom...  \n",
       "5   How to complete the “Investigate the ruins” qu...  \n",
       "6   Your changes have been saved  Email is sent Em...  \n",
       "7   Your changes have been saved  Email is sent Em...  \n",
       "8   Your changes have been saved  Email is sent Em...  \n",
       "9   How to find Karlach Demonsbane in BG3 and get ...  \n",
       "10  From swords to axes to bows, the best BG3 weap...  \n",
       "11  Our top BG3 tips could be the difference betwe...  "
      ]
     },
     "execution_count": 5,
     "metadata": {},
     "output_type": "execute_result"
    }
   ],
   "source": [
    "scraped_dataframe = pd.DataFrame(scraped_data)\n",
    "scraped_dataframe"
   ]
  },
  {
   "cell_type": "markdown",
   "id": "c0a34013-2ae9-4930-88d8-11f3e30d9192",
   "metadata": {},
   "source": [
    "---\n",
    "## <ins>Saving Data</ins>\n",
    "- Saving the data as a `.pkl` file and as a `.csv` file in the `/data` directory."
   ]
  },
  {
   "cell_type": "code",
   "execution_count": 6,
   "id": "3235c834-0c54-456e-86ce-0d42be197a6e",
   "metadata": {
    "tags": []
   },
   "outputs": [],
   "source": [
    "scraped_dataframe.to_pickle('data/scraped_data.pkl')\n",
    "scraped_dataframe.to_csv('data/scraped_data.csv', index=False)"
   ]
  }
 ],
 "metadata": {
  "kernelspec": {
   "display_name": "Python 3 (ipykernel)",
   "language": "python",
   "name": "python3"
  },
  "language_info": {
   "codemirror_mode": {
    "name": "ipython",
    "version": 3
   },
   "file_extension": ".py",
   "mimetype": "text/x-python",
   "name": "python",
   "nbconvert_exporter": "python",
   "pygments_lexer": "ipython3",
   "version": "3.11.4"
  }
 },
 "nbformat": 4,
 "nbformat_minor": 5
}
