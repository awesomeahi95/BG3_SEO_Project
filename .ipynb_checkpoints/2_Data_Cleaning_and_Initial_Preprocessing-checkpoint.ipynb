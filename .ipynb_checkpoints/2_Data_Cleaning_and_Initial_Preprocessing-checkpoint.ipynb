{
 "cells": [
  {
   "cell_type": "markdown",
   "id": "e781b118-f049-4149-80d3-d54cbd3934d5",
   "metadata": {
    "tags": []
   },
   "source": [
    "# Data Cleaning and Initial Preprocessing\n",
    "\n",
    "## Objective\n",
    "- The purpose of this notebook is to clean and preprocess the raw data extracted from guide articles about Baldur's Gate 3. This includes handling missing or duplicate values, cleaning the raw text data, and standardizing the meta tag columns. These steps will prepare the data for further analysis and advanced preprocessing.\n",
    "\n",
    "## Workflow\n",
    "1. Load the raw scraped data containing\n",
    "2. Check for missing or duplicate values in all columns\n",
    "3. Clean the raw content\n",
    "4. Standardize text\n",
    "5. Remove stopwords from columns\n",
    "6. Tokenize the cleaned columns\n",
    "7. Save the preprocessed data for EDA and advanced preprocessing"
   ]
  },
  {
   "cell_type": "markdown",
   "id": "ccfb3cbf-99d1-441d-99bb-ee98c4e1fa94",
   "metadata": {},
   "source": [
    "## Imports"
   ]
  },
  {
   "cell_type": "code",
   "execution_count": 1,
   "id": "365c3333-82ea-4a9e-a279-6a76f1d13a56",
   "metadata": {
    "tags": []
   },
   "outputs": [],
   "source": [
    "import pandas as pd\n",
    "from bs4 import BeautifulSoup\n",
    "import re\n",
    "from string import punctuation\n",
    "import nltk\n",
    "from nltk.corpus import stopwords\n",
    "from nltk.tokenize import word_tokenize\n",
    "from nltk.util import ngrams\n",
    "from nltk.stem import WordNetLemmatizer\n",
    "\n",
    "# Uncomment rows below and execute if nltk stopwords and nltk punctuation not downloaded\n",
    "# nltk.download('stopwords')\n",
    "# nltk.download('punkt')"
   ]
  },
  {
   "cell_type": "markdown",
   "id": "0ea0a800-c046-4ccf-87d9-ffd3448f2720",
   "metadata": {},
   "source": [
    "## Load Data"
   ]
  },
  {
   "cell_type": "code",
   "execution_count": 2,
   "id": "800d7a22-bd6a-417f-805e-e74000ba173c",
   "metadata": {
    "tags": []
   },
   "outputs": [],
   "source": [
    "data_path = \"data/scraped_data_with_meta.pkl\"\n",
    "raw_dataframe = pd.read_pickle(data_path)"
   ]
  },
  {
   "cell_type": "code",
   "execution_count": 3,
   "id": "955fe3b5-3b47-4541-bf7a-76200f464101",
   "metadata": {
    "tags": []
   },
   "outputs": [
    {
     "data": {
      "text/html": [
       "<div>\n",
       "<style scoped>\n",
       "    .dataframe tbody tr th:only-of-type {\n",
       "        vertical-align: middle;\n",
       "    }\n",
       "\n",
       "    .dataframe tbody tr th {\n",
       "        vertical-align: top;\n",
       "    }\n",
       "\n",
       "    .dataframe thead th {\n",
       "        text-align: right;\n",
       "    }\n",
       "</style>\n",
       "<table border=\"1\" class=\"dataframe\">\n",
       "  <thead>\n",
       "    <tr style=\"text-align: right;\">\n",
       "      <th></th>\n",
       "      <th>Google_Question</th>\n",
       "      <th>URL</th>\n",
       "      <th>Content</th>\n",
       "      <th>Meta_Title</th>\n",
       "      <th>Meta_Description</th>\n",
       "      <th>Meta_Keywords</th>\n",
       "    </tr>\n",
       "  </thead>\n",
       "  <tbody>\n",
       "    <tr>\n",
       "      <th>0</th>\n",
       "      <td>How to multiclass?</td>\n",
       "      <td>https://www.ign.com/wikis/baldurs-gate-3/How_t...</td>\n",
       "      <td>Join\\nGuide\\nChecklists\\nMaps\\nTask Search\\nHo...</td>\n",
       "      <td>How to Multiclass - Baldur's Gate III Guide - IGN</td>\n",
       "      <td>Multiclassing in Baldur&amp;#x2019;s Gate 3 lets y...</td>\n",
       "      <td>None</td>\n",
       "    </tr>\n",
       "    <tr>\n",
       "      <th>1</th>\n",
       "      <td>How to multiclass?</td>\n",
       "      <td>https://www.thegamer.com/baldurs-gate-3-bg3-mu...</td>\n",
       "      <td>Menu\\nSign In Now\\nTrending\\nTheGamer GOTY 202...</td>\n",
       "      <td>How To Multiclass In Baldur's Gate 3</td>\n",
       "      <td>Multiclassing allows you to use some interesti...</td>\n",
       "      <td>None</td>\n",
       "    </tr>\n",
       "    <tr>\n",
       "      <th>2</th>\n",
       "      <td>How to multiclass?</td>\n",
       "      <td>https://www.polygon.com/baldurs-gate-3-guides/...</td>\n",
       "      <td>The homepage\\nGuides\\nGames\\nEntertainment\\nGU...</td>\n",
       "      <td>How to multiclass and best multiclass builds i...</td>\n",
       "      <td>Multiclassing is one of the best ways to incre...</td>\n",
       "      <td>None</td>\n",
       "    </tr>\n",
       "    <tr>\n",
       "      <th>3</th>\n",
       "      <td>How to multiclass?</td>\n",
       "      <td>https://www.rockpapershotgun.com/baldurs-gate-...</td>\n",
       "      <td>All 107 Black Myth Wukong bosses\\nInfinity Nik...</td>\n",
       "      <td>How to multiclass in Baldur's Gate 3 | Rock Pa...</td>\n",
       "      <td>Baldur's Gate 3 lets you multiclass, allowing ...</td>\n",
       "      <td>None</td>\n",
       "    </tr>\n",
       "    <tr>\n",
       "      <th>4</th>\n",
       "      <td>How to install mods?</td>\n",
       "      <td>https://bg3.wiki/wiki/Modding:Installing_mods</td>\n",
       "      <td>Modding:Installing mods\\nJump to navigation\\nJ...</td>\n",
       "      <td>Modding Resources - bg3.wiki</td>\n",
       "      <td>This page is a hub for everything related to M...</td>\n",
       "      <td>Installing mods, Baldur's Gate 3 Wiki, BG3 Wik...</td>\n",
       "    </tr>\n",
       "  </tbody>\n",
       "</table>\n",
       "</div>"
      ],
      "text/plain": [
       "        Google_Question                                                URL  \\\n",
       "0    How to multiclass?  https://www.ign.com/wikis/baldurs-gate-3/How_t...   \n",
       "1    How to multiclass?  https://www.thegamer.com/baldurs-gate-3-bg3-mu...   \n",
       "2    How to multiclass?  https://www.polygon.com/baldurs-gate-3-guides/...   \n",
       "3    How to multiclass?  https://www.rockpapershotgun.com/baldurs-gate-...   \n",
       "4  How to install mods?      https://bg3.wiki/wiki/Modding:Installing_mods   \n",
       "\n",
       "                                             Content  \\\n",
       "0  Join\\nGuide\\nChecklists\\nMaps\\nTask Search\\nHo...   \n",
       "1  Menu\\nSign In Now\\nTrending\\nTheGamer GOTY 202...   \n",
       "2  The homepage\\nGuides\\nGames\\nEntertainment\\nGU...   \n",
       "3  All 107 Black Myth Wukong bosses\\nInfinity Nik...   \n",
       "4  Modding:Installing mods\\nJump to navigation\\nJ...   \n",
       "\n",
       "                                          Meta_Title  \\\n",
       "0  How to Multiclass - Baldur's Gate III Guide - IGN   \n",
       "1               How To Multiclass In Baldur's Gate 3   \n",
       "2  How to multiclass and best multiclass builds i...   \n",
       "3  How to multiclass in Baldur's Gate 3 | Rock Pa...   \n",
       "4                       Modding Resources - bg3.wiki   \n",
       "\n",
       "                                    Meta_Description  \\\n",
       "0  Multiclassing in Baldur&#x2019;s Gate 3 lets y...   \n",
       "1  Multiclassing allows you to use some interesti...   \n",
       "2  Multiclassing is one of the best ways to incre...   \n",
       "3  Baldur's Gate 3 lets you multiclass, allowing ...   \n",
       "4  This page is a hub for everything related to M...   \n",
       "\n",
       "                                       Meta_Keywords  \n",
       "0                                               None  \n",
       "1                                               None  \n",
       "2                                               None  \n",
       "3                                               None  \n",
       "4  Installing mods, Baldur's Gate 3 Wiki, BG3 Wik...  "
      ]
     },
     "execution_count": 3,
     "metadata": {},
     "output_type": "execute_result"
    }
   ],
   "source": [
    "raw_dataframe.head()"
   ]
  },
  {
   "cell_type": "markdown",
   "id": "12f7c48c-292f-4ef2-aed9-48acd64625bc",
   "metadata": {},
   "source": [
    "## Checking Data Types of all Columns\n",
    "Checking data types of all values to confirm we are working with only `str` variables."
   ]
  },
  {
   "cell_type": "code",
   "execution_count": 4,
   "id": "c0fdf039-aa52-4104-8d16-a72e0e139773",
   "metadata": {
    "tags": []
   },
   "outputs": [
    {
     "name": "stdout",
     "output_type": "stream",
     "text": [
      "Google_Question: 36 <class 'str'>\n",
      "URL: 36 <class 'str'>\n",
      "Content: 36 <class 'str'>\n",
      "Meta_Title: 36 <class 'str'>\n",
      "Meta_Description: 33 <class 'str'>, 3 <class 'NoneType'>\n",
      "Meta_Keywords: 33 <class 'NoneType'>, 3 <class 'str'>\n"
     ]
    }
   ],
   "source": [
    "type_summary = {}\n",
    "for column in raw_dataframe.columns:\n",
    "    types = raw_dataframe[column].map(type).value_counts()\n",
    "    type_summary[column] = {str(t): count for t, count in types.items()}\n",
    "\n",
    "for column, type_counts in type_summary.items():\n",
    "    type_info = \", \".join([f\"{count} {t.split('.')[-1]}\" for t, count in type_counts.items()])\n",
    "    print(f\"{column}: {type_info}\")"
   ]
  },
  {
   "cell_type": "markdown",
   "id": "35fa59d1-bb55-4868-a15b-1e8571543bc9",
   "metadata": {
    "tags": []
   },
   "source": [
    "All variables are `str` or `NoneType`."
   ]
  },
  {
   "cell_type": "markdown",
   "id": "92e520aa-8466-49f7-b450-dd8a18dc37b1",
   "metadata": {},
   "source": [
    "## Checking for Missing and Duplicate Data\n",
    "This step ensures the data integrity by identifying and handling:\n",
    "- Missing values (e.g., null or empty fields).\n",
    "- Remove any columns with more than 70% of the date have a null or empty field\n",
    "- Duplicate entries to avoid redundancy in analysis."
   ]
  },
  {
   "cell_type": "markdown",
   "id": "ce2adf40-7321-4d07-9cfb-f4e38437a392",
   "metadata": {},
   "source": [
    "### Checking Missing Data"
   ]
  },
  {
   "cell_type": "code",
   "execution_count": 5,
   "id": "57ba05ed-61d1-4932-ba47-e5a0a86f2a30",
   "metadata": {},
   "outputs": [
    {
     "name": "stdout",
     "output_type": "stream",
     "text": [
      "Missing and Empty Value Summary:\n",
      "                  Total Rows  Missing Values  Empty Strings  \\\n",
      "Google_Question         36.0             0.0            0.0   \n",
      "URL                     36.0             0.0            0.0   \n",
      "Content                 36.0             0.0            0.0   \n",
      "Meta_Title              36.0             0.0            0.0   \n",
      "Meta_Description        36.0             3.0            0.0   \n",
      "Meta_Keywords           36.0            33.0            0.0   \n",
      "\n",
      "                  Total Missing/Empty  Percentage Missing/Empty  \n",
      "Google_Question                   0.0                  0.000000  \n",
      "URL                               0.0                  0.000000  \n",
      "Content                           0.0                  0.000000  \n",
      "Meta_Title                        0.0                  0.000000  \n",
      "Meta_Description                  3.0                  8.333333  \n",
      "Meta_Keywords                    33.0                 91.666667  \n"
     ]
    }
   ],
   "source": [
    "def check_missing_and_empty(dataframe):\n",
    "    summary = {}\n",
    "    for column in dataframe.columns:\n",
    "        total = len(dataframe)\n",
    "        missing = dataframe[column].isnull().sum()\n",
    "        empty = (dataframe[column] == \"\").sum()\n",
    "        summary[column] = {\n",
    "            \"Total Rows\": total,\n",
    "            \"Missing Values\": missing,\n",
    "            \"Empty Strings\": empty,\n",
    "            \"Total Missing/Empty\": missing + empty,\n",
    "            \"Percentage Missing/Empty\": ((missing + empty) / total) * 100\n",
    "        }\n",
    "    return pd.DataFrame(summary).T \n",
    "\n",
    "missing_summary = check_missing_and_empty(raw_dataframe)\n",
    "print(\"Missing and Empty Value Summary:\")\n",
    "print(missing_summary)"
   ]
  },
  {
   "cell_type": "markdown",
   "id": "84993816-e554-48f8-9efc-76089005f9ad",
   "metadata": {},
   "source": [
    "### Removing Redundant Columns"
   ]
  },
  {
   "cell_type": "code",
   "execution_count": 6,
   "id": "9743c952-7502-4648-8560-8d0571c31a49",
   "metadata": {
    "tags": []
   },
   "outputs": [
    {
     "name": "stdout",
     "output_type": "stream",
     "text": [
      "Dropping columns with more than 70% missing/empty values: ['Meta_Keywords']\n"
     ]
    }
   ],
   "source": [
    "threshold = 70  \n",
    "columns_to_drop = missing_summary[\n",
    "    missing_summary[\"Percentage Missing/Empty\"] > threshold\n",
    "].index.tolist()\n",
    "\n",
    "if columns_to_drop:\n",
    "    print(f\"Dropping columns with more than {threshold}% missing/empty values: {columns_to_drop}\")\n",
    "    raw_dataframe.drop(columns=columns_to_drop, axis=1, inplace=True)\n",
    "else:\n",
    "    print(\"No columns to drop based on missing/empty values threshold.\")"
   ]
  },
  {
   "cell_type": "markdown",
   "id": "247eddad-ee56-4e1f-96d5-4159caad5662",
   "metadata": {},
   "source": [
    "### Fill in `NoneType` Values with Empty Strings"
   ]
  },
  {
   "cell_type": "code",
   "execution_count": 7,
   "id": "8887b534-349d-41f5-a9b7-b90cada32880",
   "metadata": {
    "tags": []
   },
   "outputs": [],
   "source": [
    "raw_dataframe[\"Meta_Description\"].fillna(\"\", inplace=True)"
   ]
  },
  {
   "cell_type": "markdown",
   "id": "86041eee-d7ea-4b41-9ac7-332fd20a141e",
   "metadata": {},
   "source": [
    "### Removing Duplicate Rows"
   ]
  },
  {
   "cell_type": "code",
   "execution_count": 8,
   "id": "b0735b69-8fbb-45ab-bdd9-2ad51e293739",
   "metadata": {
    "tags": []
   },
   "outputs": [],
   "source": [
    "raw_dataframe.drop_duplicates(subset=\"URL\", inplace=True)"
   ]
  },
  {
   "cell_type": "code",
   "execution_count": 9,
   "id": "41993a62-7541-425f-a3ee-6e8b8ed03454",
   "metadata": {
    "tags": []
   },
   "outputs": [
    {
     "data": {
      "text/html": [
       "<div>\n",
       "<style scoped>\n",
       "    .dataframe tbody tr th:only-of-type {\n",
       "        vertical-align: middle;\n",
       "    }\n",
       "\n",
       "    .dataframe tbody tr th {\n",
       "        vertical-align: top;\n",
       "    }\n",
       "\n",
       "    .dataframe thead th {\n",
       "        text-align: right;\n",
       "    }\n",
       "</style>\n",
       "<table border=\"1\" class=\"dataframe\">\n",
       "  <thead>\n",
       "    <tr style=\"text-align: right;\">\n",
       "      <th></th>\n",
       "      <th>Google_Question</th>\n",
       "      <th>URL</th>\n",
       "      <th>Content</th>\n",
       "      <th>Meta_Title</th>\n",
       "      <th>Meta_Description</th>\n",
       "    </tr>\n",
       "  </thead>\n",
       "  <tbody>\n",
       "    <tr>\n",
       "      <th>0</th>\n",
       "      <td>How to multiclass?</td>\n",
       "      <td>https://www.ign.com/wikis/baldurs-gate-3/How_t...</td>\n",
       "      <td>Join\\nGuide\\nChecklists\\nMaps\\nTask Search\\nHo...</td>\n",
       "      <td>How to Multiclass - Baldur's Gate III Guide - IGN</td>\n",
       "      <td>Multiclassing in Baldur&amp;#x2019;s Gate 3 lets y...</td>\n",
       "    </tr>\n",
       "    <tr>\n",
       "      <th>1</th>\n",
       "      <td>How to multiclass?</td>\n",
       "      <td>https://www.thegamer.com/baldurs-gate-3-bg3-mu...</td>\n",
       "      <td>Menu\\nSign In Now\\nTrending\\nTheGamer GOTY 202...</td>\n",
       "      <td>How To Multiclass In Baldur's Gate 3</td>\n",
       "      <td>Multiclassing allows you to use some interesti...</td>\n",
       "    </tr>\n",
       "    <tr>\n",
       "      <th>2</th>\n",
       "      <td>How to multiclass?</td>\n",
       "      <td>https://www.polygon.com/baldurs-gate-3-guides/...</td>\n",
       "      <td>The homepage\\nGuides\\nGames\\nEntertainment\\nGU...</td>\n",
       "      <td>How to multiclass and best multiclass builds i...</td>\n",
       "      <td>Multiclassing is one of the best ways to incre...</td>\n",
       "    </tr>\n",
       "    <tr>\n",
       "      <th>3</th>\n",
       "      <td>How to multiclass?</td>\n",
       "      <td>https://www.rockpapershotgun.com/baldurs-gate-...</td>\n",
       "      <td>All 107 Black Myth Wukong bosses\\nInfinity Nik...</td>\n",
       "      <td>How to multiclass in Baldur's Gate 3 | Rock Pa...</td>\n",
       "      <td>Baldur's Gate 3 lets you multiclass, allowing ...</td>\n",
       "    </tr>\n",
       "    <tr>\n",
       "      <th>4</th>\n",
       "      <td>How to install mods?</td>\n",
       "      <td>https://bg3.wiki/wiki/Modding:Installing_mods</td>\n",
       "      <td>Modding:Installing mods\\nJump to navigation\\nJ...</td>\n",
       "      <td>Modding Resources - bg3.wiki</td>\n",
       "      <td>This page is a hub for everything related to M...</td>\n",
       "    </tr>\n",
       "  </tbody>\n",
       "</table>\n",
       "</div>"
      ],
      "text/plain": [
       "        Google_Question                                                URL  \\\n",
       "0    How to multiclass?  https://www.ign.com/wikis/baldurs-gate-3/How_t...   \n",
       "1    How to multiclass?  https://www.thegamer.com/baldurs-gate-3-bg3-mu...   \n",
       "2    How to multiclass?  https://www.polygon.com/baldurs-gate-3-guides/...   \n",
       "3    How to multiclass?  https://www.rockpapershotgun.com/baldurs-gate-...   \n",
       "4  How to install mods?      https://bg3.wiki/wiki/Modding:Installing_mods   \n",
       "\n",
       "                                             Content  \\\n",
       "0  Join\\nGuide\\nChecklists\\nMaps\\nTask Search\\nHo...   \n",
       "1  Menu\\nSign In Now\\nTrending\\nTheGamer GOTY 202...   \n",
       "2  The homepage\\nGuides\\nGames\\nEntertainment\\nGU...   \n",
       "3  All 107 Black Myth Wukong bosses\\nInfinity Nik...   \n",
       "4  Modding:Installing mods\\nJump to navigation\\nJ...   \n",
       "\n",
       "                                          Meta_Title  \\\n",
       "0  How to Multiclass - Baldur's Gate III Guide - IGN   \n",
       "1               How To Multiclass In Baldur's Gate 3   \n",
       "2  How to multiclass and best multiclass builds i...   \n",
       "3  How to multiclass in Baldur's Gate 3 | Rock Pa...   \n",
       "4                       Modding Resources - bg3.wiki   \n",
       "\n",
       "                                    Meta_Description  \n",
       "0  Multiclassing in Baldur&#x2019;s Gate 3 lets y...  \n",
       "1  Multiclassing allows you to use some interesti...  \n",
       "2  Multiclassing is one of the best ways to incre...  \n",
       "3  Baldur's Gate 3 lets you multiclass, allowing ...  \n",
       "4  This page is a hub for everything related to M...  "
      ]
     },
     "execution_count": 9,
     "metadata": {},
     "output_type": "execute_result"
    }
   ],
   "source": [
    "raw_dataframe.head()"
   ]
  },
  {
   "cell_type": "markdown",
   "id": "3e2a8b1c-2bc9-4e4d-86eb-d3f3456632d1",
   "metadata": {},
   "source": [
    "## Cleaning Raw Content\n",
    "The raw scraped content often contains unwanted elements such as HTML tags, scripts, styles, and excess whitespace. This step focuses on:"
   ]
  },
  {
   "cell_type": "code",
   "execution_count": 10,
   "id": "0e99f88d-2fbe-4ff2-89a6-90f74e3b4c78",
   "metadata": {
    "tags": []
   },
   "outputs": [],
   "source": [
    "def clean_text_with_js_css_removal(text):\n",
    "    if isinstance(text, str):\n",
    "        soup = BeautifulSoup(text, \"html.parser\")\n",
    "        \n",
    "        for script_or_style in soup([\"script\", \"style\"]):\n",
    "            script_or_style.decompose()\n",
    "        \n",
    "        text = soup.get_text()\n",
    "        text = re.sub(r\"[^\\w\\s]\", \" \", text)\n",
    "        text = re.sub(r\"\\s+\", \" \", text).strip()\n",
    "        return text.lower()\n",
    "    return text\n",
    "\n",
    "columns_to_clean = [\"Content\", \"Meta_Title\", \"Meta_Description\"]\n",
    "\n",
    "for column in columns_to_clean:\n",
    "    raw_dataframe[column] = raw_dataframe[column].apply(clean_text_with_js_css_removal)"
   ]
  },
  {
   "cell_type": "markdown",
   "id": "cbc37804-3e4f-40e0-9efa-ae262645de30",
   "metadata": {},
   "source": [
    "## Standardizing Text\n",
    "Standardizing text ensures uniformity in formatting, which is essential for further processing like tokenization and analysis."
   ]
  },
  {
   "cell_type": "code",
   "execution_count": 11,
   "id": "1097cb69-2beb-43e4-b2fe-fc681cdc30c2",
   "metadata": {
    "tags": []
   },
   "outputs": [],
   "source": [
    "def standardize_text(text):\n",
    "    if isinstance(text, str):\n",
    "        return text.lower().strip()\n",
    "    return text\n",
    "columns_to_standardize = [\"Content\", \"Meta_Title\", \"Meta_Description\"]\n",
    "\n",
    "for column in columns_to_standardize:\n",
    "    raw_dataframe[column] = raw_dataframe[column].apply(standardize_text)"
   ]
  },
  {
   "cell_type": "markdown",
   "id": "6b9d58a9-3c0e-4826-8b42-0ea71a37440c",
   "metadata": {},
   "source": [
    "## Removing General Stopwords\n",
    "In this step, we remove standard English stopwords to simplify the text and reduce noise. I will not apply any custom or domain-specific stopword removal at this stage, as this will be addressed during exploratory data analysis (EDA)."
   ]
  },
  {
   "cell_type": "code",
   "execution_count": 12,
   "id": "a0b7f9e3-bc5f-4cb5-8366-c853e33097b6",
   "metadata": {
    "tags": []
   },
   "outputs": [],
   "source": [
    "stop_words = set(stopwords.words(\"english\"))\n",
    "def remove_general_stopwords(text):\n",
    "    if isinstance(text, str):\n",
    "        tokens = word_tokenize(text)\n",
    "        filtered_tokens = [word for word in tokens if word.lower() not in stop_words]\n",
    "        return \" \".join(filtered_tokens)\n",
    "    return text\n",
    "\n",
    "raw_dataframe[\"Content\"] = raw_dataframe[\"Content\"].apply(remove_general_stopwords)\n",
    "raw_dataframe[\"Meta_Title\"] = raw_dataframe[\"Meta_Title\"].apply(remove_general_stopwords)\n",
    "raw_dataframe[\"Meta_Description\"] = raw_dataframe[\"Meta_Description\"].apply(remove_general_stopwords)"
   ]
  },
  {
   "cell_type": "markdown",
   "id": "9415b521-0ac2-4be9-ae24-627613835a70",
   "metadata": {},
   "source": [
    "## Tokenization, Lemmatization, and N-Gram Generation\n",
    "This function preprocesses the text data by tokenizing it into unigrams, generating n-grams (bigrams and trigrams), and applying lemmatization to unigrams to standardize word forms, enabling more meaningful text analysis."
   ]
  },
  {
   "cell_type": "code",
   "execution_count": 13,
   "id": "d6ad27eb-d676-461d-863f-9cbd265d8805",
   "metadata": {
    "tags": []
   },
   "outputs": [],
   "source": [
    "lemmatizer = WordNetLemmatizer()\n",
    "def process_text_column(text):\n",
    "    if isinstance(text, str):\n",
    "        \n",
    "        # Tokenization\n",
    "        tokens = word_tokenize(text)\n",
    "        \n",
    "        # Lemmatization for unigrams (using lemmatized tokens)\n",
    "        lemmatized_tokens = [lemmatizer.lemmatize(word) for word in tokens]\n",
    "        \n",
    "        # Generate bigrams and trigrams (using lemmatized tokens)\n",
    "        bigrams = [\" \".join(gram) for gram in ngrams(lemmatized_tokens, 2)]\n",
    "        trigrams = [\" \".join(gram) for gram in ngrams(lemmatized_tokens, 3)]\n",
    "        \n",
    "        return lemmatized_tokens, bigrams, trigrams\n",
    "    return [], [], []\n",
    "\n",
    "for column in [\"Content\", \"Meta_Title\", \"Meta_Description\"]:\n",
    "    raw_dataframe[f\"Unigrams_{column}\"], \\\n",
    "    raw_dataframe[f\"Bigrams_{column}\"], \\\n",
    "    raw_dataframe[f\"Trigrams_{column}\"] = zip(*raw_dataframe[column].apply(process_text_column))"
   ]
  },
  {
   "cell_type": "code",
   "execution_count": 14,
   "id": "1abee952-aa97-4b88-bf8e-97c8e3a71a46",
   "metadata": {
    "tags": []
   },
   "outputs": [
    {
     "data": {
      "text/html": [
       "<div>\n",
       "<style scoped>\n",
       "    .dataframe tbody tr th:only-of-type {\n",
       "        vertical-align: middle;\n",
       "    }\n",
       "\n",
       "    .dataframe tbody tr th {\n",
       "        vertical-align: top;\n",
       "    }\n",
       "\n",
       "    .dataframe thead th {\n",
       "        text-align: right;\n",
       "    }\n",
       "</style>\n",
       "<table border=\"1\" class=\"dataframe\">\n",
       "  <thead>\n",
       "    <tr style=\"text-align: right;\">\n",
       "      <th></th>\n",
       "      <th>Unigrams_Content</th>\n",
       "      <th>Bigrams_Content</th>\n",
       "      <th>Trigrams_Content</th>\n",
       "      <th>Unigrams_Meta_Title</th>\n",
       "      <th>Bigrams_Meta_Title</th>\n",
       "      <th>Trigrams_Meta_Title</th>\n",
       "      <th>Unigrams_Meta_Description</th>\n",
       "      <th>Bigrams_Meta_Description</th>\n",
       "      <th>Trigrams_Meta_Description</th>\n",
       "    </tr>\n",
       "  </thead>\n",
       "  <tbody>\n",
       "    <tr>\n",
       "      <th>0</th>\n",
       "      <td>[join, guide, checklist, map, task, search, mu...</td>\n",
       "      <td>[join guide, guide checklist, checklist map, m...</td>\n",
       "      <td>[join guide checklist, guide checklist map, ch...</td>\n",
       "      <td>[multiclass, baldur, gate, iii, guide, ign]</td>\n",
       "      <td>[multiclass baldur, baldur gate, gate iii, iii...</td>\n",
       "      <td>[multiclass baldur gate, baldur gate iii, gate...</td>\n",
       "      <td>[multiclassing, baldur, gate, 3, let, train, c...</td>\n",
       "      <td>[multiclassing baldur, baldur gate, gate 3, 3 ...</td>\n",
       "      <td>[multiclassing baldur gate, baldur gate 3, gat...</td>\n",
       "    </tr>\n",
       "    <tr>\n",
       "      <th>1</th>\n",
       "      <td>[menu, sign, trending, thegamer, goty, 2024, i...</td>\n",
       "      <td>[menu sign, sign trending, trending thegamer, ...</td>\n",
       "      <td>[menu sign trending, sign trending thegamer, t...</td>\n",
       "      <td>[multiclass, baldur, gate, 3]</td>\n",
       "      <td>[multiclass baldur, baldur gate, gate 3]</td>\n",
       "      <td>[multiclass baldur gate, baldur gate 3]</td>\n",
       "      <td>[multiclassing, allows, use, interesting, vers...</td>\n",
       "      <td>[multiclassing allows, allows use, use interes...</td>\n",
       "      <td>[multiclassing allows use, allows use interest...</td>\n",
       "    </tr>\n",
       "    <tr>\n",
       "      <th>2</th>\n",
       "      <td>[homepage, guide, game, entertainment, guide, ...</td>\n",
       "      <td>[homepage guide, guide game, game entertainmen...</td>\n",
       "      <td>[homepage guide game, guide game entertainment...</td>\n",
       "      <td>[multiclass, best, multiclass, build, bg3, pol...</td>\n",
       "      <td>[multiclass best, best multiclass, multiclass ...</td>\n",
       "      <td>[multiclass best multiclass, best multiclass b...</td>\n",
       "      <td>[multiclassing, one, best, way, increase, char...</td>\n",
       "      <td>[multiclassing one, one best, best way, way in...</td>\n",
       "      <td>[multiclassing one best, one best way, best wa...</td>\n",
       "    </tr>\n",
       "    <tr>\n",
       "      <th>3</th>\n",
       "      <td>[107, black, myth, wukong, boss, infinity, nik...</td>\n",
       "      <td>[107 black, black myth, myth wukong, wukong bo...</td>\n",
       "      <td>[107 black myth, black myth wukong, myth wukon...</td>\n",
       "      <td>[multiclass, baldur, gate, 3, rock, paper, sho...</td>\n",
       "      <td>[multiclass baldur, baldur gate, gate 3, 3 roc...</td>\n",
       "      <td>[multiclass baldur gate, baldur gate 3, gate 3...</td>\n",
       "      <td>[baldur, gate, 3, let, multiclass, allowing, m...</td>\n",
       "      <td>[baldur gate, gate 3, 3 let, let multiclass, m...</td>\n",
       "      <td>[baldur gate 3, gate 3 let, 3 let multiclass, ...</td>\n",
       "    </tr>\n",
       "    <tr>\n",
       "      <th>4</th>\n",
       "      <td>[modding, installing, mod, jump, navigation, j...</td>\n",
       "      <td>[modding installing, installing mod, mod jump,...</td>\n",
       "      <td>[modding installing mod, installing mod jump, ...</td>\n",
       "      <td>[modding, resource, bg3, wiki]</td>\n",
       "      <td>[modding resource, resource bg3, bg3 wiki]</td>\n",
       "      <td>[modding resource bg3, resource bg3 wiki]</td>\n",
       "      <td>[page, hub, everything, related, modding, bald...</td>\n",
       "      <td>[page hub, hub everything, everything related,...</td>\n",
       "      <td>[page hub everything, hub everything related, ...</td>\n",
       "    </tr>\n",
       "  </tbody>\n",
       "</table>\n",
       "</div>"
      ],
      "text/plain": [
       "                                    Unigrams_Content  \\\n",
       "0  [join, guide, checklist, map, task, search, mu...   \n",
       "1  [menu, sign, trending, thegamer, goty, 2024, i...   \n",
       "2  [homepage, guide, game, entertainment, guide, ...   \n",
       "3  [107, black, myth, wukong, boss, infinity, nik...   \n",
       "4  [modding, installing, mod, jump, navigation, j...   \n",
       "\n",
       "                                     Bigrams_Content  \\\n",
       "0  [join guide, guide checklist, checklist map, m...   \n",
       "1  [menu sign, sign trending, trending thegamer, ...   \n",
       "2  [homepage guide, guide game, game entertainmen...   \n",
       "3  [107 black, black myth, myth wukong, wukong bo...   \n",
       "4  [modding installing, installing mod, mod jump,...   \n",
       "\n",
       "                                    Trigrams_Content  \\\n",
       "0  [join guide checklist, guide checklist map, ch...   \n",
       "1  [menu sign trending, sign trending thegamer, t...   \n",
       "2  [homepage guide game, guide game entertainment...   \n",
       "3  [107 black myth, black myth wukong, myth wukon...   \n",
       "4  [modding installing mod, installing mod jump, ...   \n",
       "\n",
       "                                 Unigrams_Meta_Title  \\\n",
       "0        [multiclass, baldur, gate, iii, guide, ign]   \n",
       "1                      [multiclass, baldur, gate, 3]   \n",
       "2  [multiclass, best, multiclass, build, bg3, pol...   \n",
       "3  [multiclass, baldur, gate, 3, rock, paper, sho...   \n",
       "4                     [modding, resource, bg3, wiki]   \n",
       "\n",
       "                                  Bigrams_Meta_Title  \\\n",
       "0  [multiclass baldur, baldur gate, gate iii, iii...   \n",
       "1           [multiclass baldur, baldur gate, gate 3]   \n",
       "2  [multiclass best, best multiclass, multiclass ...   \n",
       "3  [multiclass baldur, baldur gate, gate 3, 3 roc...   \n",
       "4         [modding resource, resource bg3, bg3 wiki]   \n",
       "\n",
       "                                 Trigrams_Meta_Title  \\\n",
       "0  [multiclass baldur gate, baldur gate iii, gate...   \n",
       "1            [multiclass baldur gate, baldur gate 3]   \n",
       "2  [multiclass best multiclass, best multiclass b...   \n",
       "3  [multiclass baldur gate, baldur gate 3, gate 3...   \n",
       "4          [modding resource bg3, resource bg3 wiki]   \n",
       "\n",
       "                           Unigrams_Meta_Description  \\\n",
       "0  [multiclassing, baldur, gate, 3, let, train, c...   \n",
       "1  [multiclassing, allows, use, interesting, vers...   \n",
       "2  [multiclassing, one, best, way, increase, char...   \n",
       "3  [baldur, gate, 3, let, multiclass, allowing, m...   \n",
       "4  [page, hub, everything, related, modding, bald...   \n",
       "\n",
       "                            Bigrams_Meta_Description  \\\n",
       "0  [multiclassing baldur, baldur gate, gate 3, 3 ...   \n",
       "1  [multiclassing allows, allows use, use interes...   \n",
       "2  [multiclassing one, one best, best way, way in...   \n",
       "3  [baldur gate, gate 3, 3 let, let multiclass, m...   \n",
       "4  [page hub, hub everything, everything related,...   \n",
       "\n",
       "                           Trigrams_Meta_Description  \n",
       "0  [multiclassing baldur gate, baldur gate 3, gat...  \n",
       "1  [multiclassing allows use, allows use interest...  \n",
       "2  [multiclassing one best, one best way, best wa...  \n",
       "3  [baldur gate 3, gate 3 let, 3 let multiclass, ...  \n",
       "4  [page hub everything, hub everything related, ...  "
      ]
     },
     "execution_count": 14,
     "metadata": {},
     "output_type": "execute_result"
    }
   ],
   "source": [
    "processed_columns = [\n",
    "    \"Unigrams_Content\", \"Bigrams_Content\", \"Trigrams_Content\",\n",
    "    \"Unigrams_Meta_Title\", \"Bigrams_Meta_Title\", \"Trigrams_Meta_Title\",\n",
    "    \"Unigrams_Meta_Description\", \"Bigrams_Meta_Description\", \"Trigrams_Meta_Description\"\n",
    "]\n",
    "raw_dataframe[processed_columns].head()"
   ]
  },
  {
   "cell_type": "markdown",
   "id": "06cb02a9-6e22-491f-9163-e0baa3eebba0",
   "metadata": {},
   "source": [
    "## Verifying Data Types and Word Lengths in Tokenized and N-Gram Columns\n",
    "Ensure that the new tokenized and n-gram columns are of type `list`. Additionally, verify that all values within these lists are of type `str` and adhere to the correct word lengths: unigrams should contain single-word values, bigrams should contain two-word values, and trigrams should contain three-word values."
   ]
  },
  {
   "cell_type": "markdown",
   "id": "ffa23fbb-e115-42c4-b7dc-edff154b7764",
   "metadata": {},
   "source": [
    "### Checking Each Column"
   ]
  },
  {
   "cell_type": "code",
   "execution_count": 15,
   "id": "c4e1d7a2-182c-496e-94a5-0f34a2600d39",
   "metadata": {
    "tags": []
   },
   "outputs": [
    {
     "name": "stdout",
     "output_type": "stream",
     "text": [
      "Google_Question: 36 <class 'str'>\n",
      "URL: 36 <class 'str'>\n",
      "Content: 36 <class 'str'>\n",
      "Meta_Title: 36 <class 'str'>\n",
      "Meta_Description: 36 <class 'str'>\n",
      "Unigrams_Content: 36 <class 'list'>\n",
      "Bigrams_Content: 36 <class 'list'>\n",
      "Trigrams_Content: 36 <class 'list'>\n",
      "Unigrams_Meta_Title: 36 <class 'list'>\n",
      "Bigrams_Meta_Title: 36 <class 'list'>\n",
      "Trigrams_Meta_Title: 36 <class 'list'>\n",
      "Unigrams_Meta_Description: 36 <class 'list'>\n",
      "Bigrams_Meta_Description: 36 <class 'list'>\n",
      "Trigrams_Meta_Description: 36 <class 'list'>\n"
     ]
    }
   ],
   "source": [
    "type_summary = {}\n",
    "\n",
    "for column in raw_dataframe.columns:\n",
    "    # Get the type of each value in the column\n",
    "    types = raw_dataframe[column].map(type).value_counts()\n",
    "    # Convert the types to a readable summary\n",
    "    type_summary[column] = {str(t): count for t, count in types.items()}\n",
    "\n",
    "# Display the summary\n",
    "for column, type_counts in type_summary.items():\n",
    "    type_info = \", \".join([f\"{count} {t.split('.')[-1]}\" for t, count in type_counts.items()])\n",
    "    print(f\"{column}: {type_info}\")"
   ]
  },
  {
   "cell_type": "markdown",
   "id": "2d12c776-ae66-4bae-a20f-c827335bcbd7",
   "metadata": {},
   "source": [
    "### Checking Tokenized Columns"
   ]
  },
  {
   "cell_type": "code",
   "execution_count": 16,
   "id": "5775106c-61dd-4bdd-9c7a-b6c89d0b7e35",
   "metadata": {
    "tags": []
   },
   "outputs": [
    {
     "name": "stdout",
     "output_type": "stream",
     "text": [
      "Validating column: Unigrams_Content\n",
      "  All rows are valid.\n",
      "\n",
      "\n",
      "Validating column: Bigrams_Content\n",
      "  All rows are valid.\n",
      "\n",
      "\n",
      "Validating column: Trigrams_Content\n",
      "  All rows are valid.\n",
      "\n",
      "\n",
      "Validating column: Unigrams_Meta_Title\n",
      "  All rows are valid.\n",
      "\n",
      "\n",
      "Validating column: Bigrams_Meta_Title\n",
      "  All rows are valid.\n",
      "\n",
      "\n",
      "Validating column: Trigrams_Meta_Title\n",
      "  All rows are valid.\n",
      "\n",
      "\n",
      "Validating column: Unigrams_Meta_Description\n",
      "  All rows are valid.\n",
      "\n",
      "\n",
      "Validating column: Bigrams_Meta_Description\n",
      "  All rows are valid.\n",
      "\n",
      "\n",
      "Validating column: Trigrams_Meta_Description\n",
      "  All rows are valid.\n",
      "\n",
      "\n"
     ]
    }
   ],
   "source": [
    "column_word_lengths = {\n",
    "    'Unigrams_Content': 1,\n",
    "    'Bigrams_Content': 2,\n",
    "    'Trigrams_Content': 3,\n",
    "    'Unigrams_Meta_Title': 1,\n",
    "    'Bigrams_Meta_Title': 2,\n",
    "    'Trigrams_Meta_Title': 3,\n",
    "    'Unigrams_Meta_Description': 1,\n",
    "    'Bigrams_Meta_Description': 2,\n",
    "    'Trigrams_Meta_Description': 3\n",
    "}\n",
    "\n",
    "for column, word_length in column_word_lengths.items():\n",
    "    print(f\"Validating column: {column}\")\n",
    "    invalid_rows = []\n",
    "    \n",
    "    for index, value in raw_dataframe[column].items():\n",
    "        if not isinstance(value, list):\n",
    "            invalid_rows.append((index, \"Not a list\"))\n",
    "            continue    \n",
    "        for item in value:\n",
    "            if not isinstance(item, str):\n",
    "                invalid_rows.append((index, f\"Non-string item: {item}\"))\n",
    "                break\n",
    "            if len(item.split()) != word_length:\n",
    "                invalid_rows.append((index, f\"Invalid word length: {item}\"))\n",
    "                break\n",
    "    if invalid_rows:\n",
    "        print(f\"  Found {len(invalid_rows)} invalid rows:\")\n",
    "        for row_index, issue in invalid_rows:\n",
    "            print(f\"    Row {row_index}: {issue}\")\n",
    "    else:\n",
    "        print(\"  All rows are valid.\")\n",
    "    print(\"\\n\")"
   ]
  },
  {
   "cell_type": "markdown",
   "id": "3fecdb83-3094-4eb1-9abd-77db1d968d23",
   "metadata": {},
   "source": [
    "## Save Initial Preprocessed Data\n",
    "\n",
    "At this stage, the data has been cleaned and tokenized, making it ready for exploratory data analysis (EDA) and advanced preprocessing. The processed data will be saved as a `.pkl` file for seamless loading in the next notebook."
   ]
  },
  {
   "cell_type": "code",
   "execution_count": 17,
   "id": "3e7955bc-ac99-4e44-b5b0-bc5da28ddd38",
   "metadata": {
    "tags": []
   },
   "outputs": [],
   "source": [
    "raw_dataframe.to_pickle(\"data/initial_preprocessed_data.pkl\")\n",
    "raw_dataframe.to_csv(\"data/initial_preprocessed_data.csv\", index=False)"
   ]
  }
 ],
 "metadata": {
  "kernelspec": {
   "display_name": "Python 3 (ipykernel)",
   "language": "python",
   "name": "python3"
  },
  "language_info": {
   "codemirror_mode": {
    "name": "ipython",
    "version": 3
   },
   "file_extension": ".py",
   "mimetype": "text/x-python",
   "name": "python",
   "nbconvert_exporter": "python",
   "pygments_lexer": "ipython3",
   "version": "3.11.4"
  }
 },
 "nbformat": 4,
 "nbformat_minor": 5
}
